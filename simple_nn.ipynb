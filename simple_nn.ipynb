{
 "cells": [
  {
   "cell_type": "code",
   "execution_count": 1,
   "metadata": {},
   "outputs": [],
   "source": [
    "import os\n",
    "import numpy as np\n",
    "from random import randint\n",
    "import matplotlib.pyplot as plt"
   ]
  },
  {
   "cell_type": "markdown",
   "metadata": {},
   "source": [
    "#### Нейройсеть\n",
    "<img src=\"./xor_problem.png\" />\n",
    "1 скрытый слой с 2 нейронами\n",
    "\n",
    "$w_{12}$ - вес 1 нейрона у 2 нейрона следующего слоя\n",
    "\n",
    "$x_{1}$ - значение нейрона\n",
    "\n",
    "$n_{1}$ - вход 1 нейрона в слое ($\\sum_{i} w_{ji}x_{i} $)\n",
    "\n",
    "\n",
    "Матрица весов первого слоя: $\\begin{pmatrix} w_{11} & w_{12}\\\\ w_{21} & w_{22} \\end{pmatrix}$\n",
    "\n",
    "Вычисление входа второго слоя: $\\begin{pmatrix} w_{11} & w_{12}\\\\ w_{21} & w_{22} \\end{pmatrix} \\begin{pmatrix} x_{1}\\\\ x_{2}\\end{pmatrix} + \\begin{pmatrix} b_{1}\\\\ b_{2}\\end{pmatrix} = \\begin{pmatrix} n_{1}\\\\ n_{2} \\end{pmatrix} $\n",
    "\n",
    "Значения второго слоя: $ \\begin{pmatrix} f(n_{1}) \\\\ f(n_{2}) \\end{pmatrix} = \\begin{pmatrix} x_{12} \\\\ x_{22} \\end{pmatrix} $\n",
    "\n",
    "Матрица весов второго слоя: $\\begin{pmatrix} w_{11} & w_{12} \\end{pmatrix}$\n",
    "\n",
    "Вычисление входа третьего слоя: $\\begin{pmatrix} w_{11} w_{12} \\end{pmatrix} \\begin{pmatrix} x_{12} \\\\ x_{22} \\end{pmatrix} + \\begin{pmatrix} b_{3}\\end{pmatrix} = \\begin{pmatrix} n_{1}^3\\end{pmatrix} $\n",
    "\n",
    "Значение 3 слоя: $f(n_{13}) = x_{13}$\n",
    "\n",
    "Ошибка сети: $ (y_{target} - x_{13}) * f'(n_{13}) = \\delta_1^3$\n",
    "\n",
    "ошибки 2 слоя: $ \\begin{pmatrix} w_{11}^2 w_{12}^2 \\end{pmatrix}^T * \\delta_1^3  \\circ \\begin{pmatrix} f'(n_{1}) \\\\  f'(n_{2}) \\end{pmatrix}) = \\begin{pmatrix} \\delta_1^2 \\\\ \\delta_2^2 \\end{pmatrix} $\n",
    "\n",
    "\"Ошибки\" 1 слоя (в алгоритме не нужны): $ \\begin{pmatrix} w_{11} & w_{12}\\\\ w_{21} & w_{22} \\end{pmatrix}^T \\begin{pmatrix} \\delta_1^2 \\\\ \\delta_2^2 \\end{pmatrix} \\circ f'(\\begin{pmatrix} n_{01} & n_{02} \\end{pmatrix}) = \n",
    "\\begin{pmatrix} w_{11} & w_{21}\\\\ w_{12} & w_{22} \\end{pmatrix} \\begin{pmatrix} \\delta_1^2 \\\\ \\delta_2^2 \\end{pmatrix} \\circ f'(\\begin{pmatrix} n_{01} & n_{02} \\end{pmatrix})$\n",
    "\n",
    "Изменение весов 2 слоя:  $ \\delta_1^3 * \\begin{pmatrix} x_{12} \\\\ x_{22} \\end{pmatrix} = \\begin{pmatrix} \\Delta_{11} \\\\ \\Delta_{12} \\end{pmatrix} $\n",
    "\n",
    "Извенения базиса 2 слоя: $ \\delta_1^3  = \\Delta_b $\n",
    "\n",
    "Изменение весов 1 слоя:  $\\begin{pmatrix} \\delta_1^2 \\\\ \\delta_2^2 \\end{pmatrix} \\begin{pmatrix} x_{11} \\\\ x_{12} \\end{pmatrix}^T =\n",
    "\\begin{pmatrix} \\delta_1^2 \\\\ \\delta_2^2 \\end{pmatrix} \\begin{pmatrix} x_{11} & x_{12} \\end{pmatrix} = \\begin{pmatrix} \\Delta_{11} & \\Delta_{12} \\\\ \\Delta_{12} & \\Delta_{22} \\end{pmatrix}$\n",
    "\n",
    "Извенения базисов 1 слоя: $ \\begin{pmatrix} \\delta_1^2 \\\\ \\delta_2^2 \\end{pmatrix}  = \\begin{pmatrix} \\Delta_{b1} \\\\ \\Delta_{b2} \\end{pmatrix} $\n",
    "\n",
    "Итоговое значение весов первого слоя: $\\begin{pmatrix} w_{11} & w_{12}\\\\ w_{21} & w_{22} \\end{pmatrix} + \\alpha * \\begin{pmatrix} \\Delta_{11} & \\Delta_{12} \\\\ \\Delta_{12} & \\Delta_{22} \\end{pmatrix} $, где $\\alpha$ - скорость градиентного спуска"
   ]
  },
  {
   "cell_type": "code",
   "execution_count": 108,
   "metadata": {},
   "outputs": [],
   "source": [
    "class Layer:\n",
    "    def __init__(self, layer_size, prew_layer_size):\n",
    "        self.layer_size = layer_size\n",
    "        self.next_layer_size = next_layer_size\n",
    "        weight = []\n",
    "        for i in layer_size:\n",
    "            line = []\n",
    "            for j in next_layer_size:\n",
    "                line.append(random.rand_range(-1, 1))\n",
    "            weight.append(line)\n",
    "        self.weight = weight\n",
    "        \n",
    "    def forward(prev_layer):\n",
    "        neuron"
   ]
  },
  {
   "cell_type": "code",
   "execution_count": 36,
   "metadata": {},
   "outputs": [],
   "source": [
    "\n",
    "def xor(x, y):\n",
    "    return 1 if x+y != 1 else 0\n",
    "\n",
    "x_train = []\n",
    "y_train = []\n",
    "for _ in range(2048):\n",
    "    x = randint(0, 1)\n",
    "    y = randint(0, 1)\n",
    "    x_train.append([x , y])\n",
    "    y_train.append(xor(x, y))\n",
    "#     print ([x , y], '~>', xor(x, y))\n",
    "\n",
    "x_train = np.array(x_train)\n",
    "y_train = np.array(y_train)"
   ]
  },
  {
   "cell_type": "code",
   "execution_count": 48,
   "metadata": {},
   "outputs": [
    {
     "data": {
      "image/png": "[encoded data removed]",
      "text/plain": [
       "<Figure size 432x288 with 1 Axes>"
      ]
     },
     "metadata": {},
     "output_type": "display_data"
    }
   ],
   "source": [
    "def sigmoid(x):\n",
    "    return 1.0/ (1 + np.exp(-x))\n",
    "\n",
    "def derivative_sigmoid(x):\n",
    "    a = sigmoid(x)\n",
    "    return a * (1 - a)\n",
    "\n",
    "with plt.xkcd():\n",
    "    x = np.array(list(range(-50, 50))) / 10.0\n",
    "    plt.plot(x, sigmoid(x))\n",
    "    plt.title(\"sigmoid\")\n",
    "    plt.show()"
   ]
  },
  {
   "cell_type": "code",
   "execution_count": 29,
   "metadata": {},
   "outputs": [],
   "source": [
    "W1 = np.random.uniform(low=0, high=1, size=(2,2))\n",
    "B1 = np.random.uniform(low=0, high=1, size=(2,1))\n",
    "W2 = np.random.uniform(low=0, high=1, size=(1,2))\n",
    "B2 = np.random.uniform(low=0, high=1, size=(1,1))\n"
   ]
  },
  {
   "cell_type": "code",
   "execution_count": 6,
   "metadata": {},
   "outputs": [
    {
     "data": {
      "text/plain": [
       "array([[0],\n",
       "       [1]])"
      ]
     },
     "execution_count": 6,
     "metadata": {},
     "output_type": "execute_result"
    }
   ],
   "source": [
    "np.reshape(x_train[1], (2, 1))\n"
   ]
  },
  {
   "cell_type": "code",
   "execution_count": 7,
   "metadata": {},
   "outputs": [
    {
     "name": "stdout",
     "output_type": "stream",
     "text": [
      "[0 0]\n",
      "[[0.20438813 0.68587383]\n",
      " [0.20232326 0.29871188]]\n",
      "[0.68587383 0.29871188]\n",
      "[[0.68587383]\n",
      " [0.29871188]]\n"
     ]
    }
   ],
   "source": [
    "print(x_train[0])\n",
    "print(W1)\n",
    "print(W1.dot(x_train[1]))\n",
    "print(W1.dot(np.reshape(x_train[1], (2, 1))))"
   ]
  },
  {
   "cell_type": "code",
   "execution_count": 37,
   "metadata": {},
   "outputs": [
    {
     "name": "stdout",
     "output_type": "stream",
     "text": [
      "[[0.67761109]]\n"
     ]
    }
   ],
   "source": [
    "layer_in = np.reshape(x_train[1], (2, 1))\n",
    "\n",
    "#layer 1\n",
    "layer_n = W1.dot(layer_in) + B1\n",
    "layer_result = sigmoid(layer_n)\n",
    "\n",
    "#layer 2\n",
    "layer_n = W2.dot(layer_result) + B2\n",
    "layer_result = sigmoid(layer_n)\n",
    "print(layer_result)\n"
   ]
  },
  {
   "cell_type": "code",
   "execution_count": 10,
   "metadata": {},
   "outputs": [
    {
     "name": "stdout",
     "output_type": "stream",
     "text": [
      "[0 0] ~~> 0.84 [1]\n",
      "[0 1] ~~> 0.85 [0]\n",
      "[1 0] ~~> 0.84 [0]\n",
      "[1 1] ~~> 0.85 [1]\n"
     ]
    }
   ],
   "source": [
    "\n",
    "for x_i, y_i in zip(x_train, y_train):\n",
    "    print(x_i, '~~>', '%.2f' % forward(np.reshape(x_i, (2,1))), '[%d]' % y_i)"
   ]
  },
  {
   "cell_type": "code",
   "execution_count": 74,
   "metadata": {},
   "outputs": [],
   "source": [
    "# if True:\n",
    "#     layer_in = np.reshape(x_i, (2,1))\n",
    "def forward(layer_in):\n",
    "    #layer 1\n",
    "    layer_1 = W1.dot(layer_in) + B1\n",
    "    layer_1_result = sigmoid(layer_1)\n",
    "\n",
    "    #layer 2\n",
    "    layer_2 = W2.dot(layer_1_result) + B2\n",
    "    layer_2_result = sigmoid(layer_2)\n",
    "    return layer_result\n",
    "# print(layer_2_result)"
   ]
  },
  {
   "cell_type": "code",
   "execution_count": 38,
   "metadata": {},
   "outputs": [
    {
     "name": "stdout",
     "output_type": "stream",
     "text": [
      "loss: 578.21\n"
     ]
    }
   ],
   "source": [
    "loss = 0\n",
    "for x_i, y_i in zip(x_train, y_train):\n",
    "    loss += (forward(np.reshape(x_i, (2,1))) - y_i) ** 2\n",
    "print(\"loss: %.2f\" % float(loss))"
   ]
  },
  {
   "cell_type": "code",
   "execution_count": 61,
   "metadata": {},
   "outputs": [
    {
     "name": "stdout",
     "output_type": "stream",
     "text": [
      "[[-0.05673048 -0.00372318]]\n",
      "[[-0.0295182 ]\n",
      " [-0.00493915]]\n"
     ]
    }
   ],
   "source": [
    "res = forward(np.reshape(x_train[0], (2,1)))\n",
    "loss = (res - y_train[0])\n",
    "# print(loss)\n",
    "errors_2 = loss * W2 * derivative_sigmoid(layer_2.T)\n",
    "print(errors_2)\n",
    "errors_1 = W1.dot(errors_2.T)\n",
    "\n",
    "print(errors_1)\n"
   ]
  },
  {
   "cell_type": "code",
   "execution_count": 107,
   "metadata": {},
   "outputs": [
    {
     "name": "stdout",
     "output_type": "stream",
     "text": [
      "[[0.69391178]]\n",
      "[[-0.06501259]]\n"
     ]
    },
    {
     "ename": "ValueError",
     "evalue": "shapes (1,2) and (1,1) not aligned: 2 (dim 1) != 1 (dim 0)",
     "output_type": "error",
     "traceback": [
      "\u001b[0;31m---------------------------------------------------------------------------\u001b[0m",
      "\u001b[0;31mValueError\u001b[0m                                Traceback (most recent call last)",
      "\u001b[0;32m<ipython-input-107-f74e2918bcf2>\u001b[0m in \u001b[0;36m<module>\u001b[0;34m\u001b[0m\n\u001b[1;32m     19\u001b[0m     \u001b[0;32mreturn\u001b[0m \u001b[0md1w_in\u001b[0m\u001b[0;34m,\u001b[0m \u001b[0md1b_in\u001b[0m\u001b[0;34m,\u001b[0m \u001b[0md2w_in\u001b[0m\u001b[0;34m,\u001b[0m \u001b[0md2b_in\u001b[0m\u001b[0;34m\u001b[0m\u001b[0;34m\u001b[0m\u001b[0m\n\u001b[1;32m     20\u001b[0m \u001b[0;34m\u001b[0m\u001b[0m\n\u001b[0;32m---> 21\u001b[0;31m \u001b[0mres\u001b[0m \u001b[0;34m=\u001b[0m \u001b[0mbackward\u001b[0m\u001b[0;34m(\u001b[0m\u001b[0mnp\u001b[0m\u001b[0;34m.\u001b[0m\u001b[0mreshape\u001b[0m\u001b[0;34m(\u001b[0m\u001b[0mx_train\u001b[0m\u001b[0;34m[\u001b[0m\u001b[0;36m0\u001b[0m\u001b[0;34m]\u001b[0m\u001b[0;34m,\u001b[0m \u001b[0;34m(\u001b[0m\u001b[0;36m2\u001b[0m\u001b[0;34m,\u001b[0m\u001b[0;36m1\u001b[0m\u001b[0;34m)\u001b[0m\u001b[0;34m)\u001b[0m\u001b[0;34m,\u001b[0m \u001b[0my_train\u001b[0m\u001b[0;34m[\u001b[0m\u001b[0;36m0\u001b[0m\u001b[0;34m]\u001b[0m\u001b[0;34m)\u001b[0m\u001b[0;34m\u001b[0m\u001b[0;34m\u001b[0m\u001b[0m\n\u001b[0m\u001b[1;32m     22\u001b[0m \u001b[0;34m\u001b[0m\u001b[0m\n",
      "\u001b[0;32m<ipython-input-107-f74e2918bcf2>\u001b[0m in \u001b[0;36mbackward\u001b[0;34m(x0, y_in)\u001b[0m\n\u001b[1;32m     12\u001b[0m     \u001b[0merrors_2\u001b[0m \u001b[0;34m=\u001b[0m \u001b[0mloss\u001b[0m \u001b[0;34m*\u001b[0m \u001b[0mderivative_sigmoid\u001b[0m\u001b[0;34m(\u001b[0m\u001b[0mlayer_2\u001b[0m\u001b[0;34m.\u001b[0m\u001b[0mT\u001b[0m\u001b[0;34m)\u001b[0m\u001b[0;34m\u001b[0m\u001b[0;34m\u001b[0m\u001b[0m\n\u001b[1;32m     13\u001b[0m     \u001b[0mprint\u001b[0m\u001b[0;34m(\u001b[0m\u001b[0merrors_2\u001b[0m\u001b[0;34m)\u001b[0m\u001b[0;34m\u001b[0m\u001b[0;34m\u001b[0m\u001b[0m\n\u001b[0;32m---> 14\u001b[0;31m     \u001b[0merrors_1\u001b[0m \u001b[0;34m=\u001b[0m \u001b[0mW2\u001b[0m\u001b[0;34m.\u001b[0m\u001b[0mdot\u001b[0m\u001b[0;34m(\u001b[0m\u001b[0merrors_2\u001b[0m\u001b[0;34m)\u001b[0m\u001b[0;34m\u001b[0m\u001b[0;34m\u001b[0m\u001b[0m\n\u001b[0m\u001b[1;32m     15\u001b[0m     \u001b[0md1w_in\u001b[0m \u001b[0;34m=\u001b[0m \u001b[0merrors_1\u001b[0m\u001b[0;34m.\u001b[0m\u001b[0mdot\u001b[0m\u001b[0;34m(\u001b[0m\u001b[0mx0\u001b[0m\u001b[0;34m.\u001b[0m\u001b[0mT\u001b[0m\u001b[0;34m)\u001b[0m\u001b[0;34m\u001b[0m\u001b[0;34m\u001b[0m\u001b[0m\n\u001b[1;32m     16\u001b[0m     \u001b[0md1b_in\u001b[0m \u001b[0;34m=\u001b[0m \u001b[0merrors_1\u001b[0m\u001b[0;31m#.dot(np.ones(1,2))\u001b[0m\u001b[0;34m\u001b[0m\u001b[0;34m\u001b[0m\u001b[0m\n",
      "\u001b[0;31mValueError\u001b[0m: shapes (1,2) and (1,1) not aligned: 2 (dim 1) != 1 (dim 0)"
     ]
    }
   ],
   "source": [
    "def backward(x0, y_in):\n",
    "    #layer 1\n",
    "    layer_1 = W1.dot(x0) + B1\n",
    "    layer_1_result = sigmoid(layer_1)\n",
    "\n",
    "    #layer 2\n",
    "    layer_2 = W2.dot(layer_1_result) + B2\n",
    "    layer_2_result = sigmoid(layer_2)\n",
    "    print(layer_2_result)\n",
    "    \n",
    "    loss = (layer_2_result - y_in)\n",
    "    errors_2 = loss * derivative_sigmoid(layer_2.T)\n",
    "    print(errors_2)\n",
    "    errors_1 = W2.dot(errors_2)\n",
    "    d1w_in = errors_1.dot(x0.T)\n",
    "    d1b_in = errors_1#.dot(np.ones(1,2))\n",
    "    d2w_in = errors_2.dot(layer_1_result)\n",
    "    d2b_in = errors_2#.dot(np.ones(2,1))\n",
    "    return d1w_in, d1b_in, d2w_in, d2b_in\n",
    "\n",
    "res = backward(np.reshape(x_train[0], (2,1)), y_train[0])\n",
    "    "
   ]
  },
  {
   "cell_type": "code",
   "execution_count": 72,
   "metadata": {},
   "outputs": [
    {
     "ename": "SyntaxError",
     "evalue": "invalid syntax (<ipython-input-72-b33ae1abf350>, line 1)",
     "output_type": "error",
     "traceback": [
      "\u001b[0;36m  File \u001b[0;32m\"<ipython-input-72-b33ae1abf350>\"\u001b[0;36m, line \u001b[0;32m1\u001b[0m\n\u001b[0;31m    loss_history = []hist_W1 = [] hist_B1 = [] hist_W2 = [] hist_B2 = []\u001b[0m\n\u001b[0m                     ^\u001b[0m\n\u001b[0;31mSyntaxError\u001b[0m\u001b[0;31m:\u001b[0m invalid syntax\n"
     ]
    }
   ],
   "source": [
    "loss_history = []\n",
    "hist_W1 = []\n",
    "hist_B1 = []\n",
    "hist_W2 = []\n",
    "hist_B2 = []"
   ]
  },
  {
   "cell_type": "code",
   "execution_count": 102,
   "metadata": {},
   "outputs": [
    {
     "name": "stdout",
     "output_type": "stream",
     "text": [
      "[[-0.05682415 -0.00361369]] [[0.08593004]]\n"
     ]
    },
    {
     "ename": "ValueError",
     "evalue": "non-broadcastable output operand with shape (1,1) doesn't match the broadcast shape (1,2)",
     "output_type": "error",
     "traceback": [
      "\u001b[0;31m---------------------------------------------------------------------------\u001b[0m",
      "\u001b[0;31mValueError\u001b[0m                                Traceback (most recent call last)",
      "\u001b[0;32m<ipython-input-102-02cf199efe50>\u001b[0m in \u001b[0;36m<module>\u001b[0;34m\u001b[0m\n\u001b[1;32m     15\u001b[0m         \u001b[0mW2\u001b[0m \u001b[0;34m+=\u001b[0m \u001b[0mlr\u001b[0m \u001b[0;34m*\u001b[0m \u001b[0md2w\u001b[0m\u001b[0;34m\u001b[0m\u001b[0;34m\u001b[0m\u001b[0m\n\u001b[1;32m     16\u001b[0m         \u001b[0mprint\u001b[0m\u001b[0;34m(\u001b[0m\u001b[0md2b\u001b[0m\u001b[0;34m,\u001b[0m \u001b[0mB2\u001b[0m\u001b[0;34m)\u001b[0m\u001b[0;34m\u001b[0m\u001b[0;34m\u001b[0m\u001b[0m\n\u001b[0;32m---> 17\u001b[0;31m         \u001b[0mB2\u001b[0m \u001b[0;34m+=\u001b[0m \u001b[0mlr\u001b[0m \u001b[0;34m*\u001b[0m \u001b[0md2b\u001b[0m\u001b[0;34m\u001b[0m\u001b[0;34m\u001b[0m\u001b[0m\n\u001b[0m\u001b[1;32m     18\u001b[0m         \u001b[0ma2\u001b[0m \u001b[0;34m=\u001b[0m \u001b[0mforward\u001b[0m\u001b[0;34m(\u001b[0m\u001b[0mx_batch\u001b[0m\u001b[0;34m)\u001b[0m\u001b[0;34m\u001b[0m\u001b[0;34m\u001b[0m\u001b[0m\n\u001b[1;32m     19\u001b[0m         \u001b[0mbatch_loss\u001b[0m\u001b[0;34m.\u001b[0m\u001b[0mappend\u001b[0m\u001b[0;34m(\u001b[0m\u001b[0mnp\u001b[0m\u001b[0;34m.\u001b[0m\u001b[0mlinalg\u001b[0m\u001b[0;34m.\u001b[0m\u001b[0mnorm\u001b[0m\u001b[0;34m(\u001b[0m\u001b[0ma2\u001b[0m \u001b[0;34m-\u001b[0m \u001b[0my_batch\u001b[0m\u001b[0;34m)\u001b[0m\u001b[0;34m)\u001b[0m\u001b[0;34m\u001b[0m\u001b[0;34m\u001b[0m\u001b[0m\n",
      "\u001b[0;31mValueError\u001b[0m: non-broadcastable output operand with shape (1,1) doesn't match the broadcast shape (1,2)"
     ]
    }
   ],
   "source": [
    "epochs = 30000\n",
    "batch_size = 64\n",
    "lr = .02\n",
    "\n",
    "for e in range(epochs):\n",
    "    i=0\n",
    "    batch_loss = []\n",
    "    while(i<x_train.shape[0]):\n",
    "        x_batch = np.reshape(x_train[i], (2,1))\n",
    "        y_batch = y_train[i]\n",
    "        i += 1\n",
    "        d1w, d1b, d2w, d2b = backward(x_batch, y_batch)\n",
    "        W1 += lr * d1w\n",
    "        B1 += lr * d1b\n",
    "        W2 += lr * d2w\n",
    "        print(d2b, B2)\n",
    "        B2 += lr * d2b\n",
    "        a2 = forward(x_batch)\n",
    "        batch_loss.append(np.linalg.norm(a2 - y_batch))\n",
    "        \n",
    "    loss_history.append(np.mean(batch_loss))\n",
    "    hist_W1.append(W1.flatten())\n",
    "    hist_B1.append(B1.flatten())\n",
    "    hist_W2.append(W2.flatten())\n",
    "    hist_B2.append(B2.flatten())\n"
   ]
  },
  {
   "cell_type": "code",
   "execution_count": 73,
   "metadata": {},
   "outputs": [
    {
     "data": {
      "text/plain": [
       "2048"
      ]
     },
     "execution_count": 73,
     "metadata": {},
     "output_type": "execute_result"
    }
   ],
   "source": [
    "x_train.shape[0]"
   ]
  },
  {
   "cell_type": "code",
   "execution_count": 85,
   "metadata": {},
   "outputs": [
    {
     "data": {
      "text/plain": [
       "array([[0, 1],\n",
       "       [0, 1],\n",
       "       [0, 1],\n",
       "       [1, 1],\n",
       "       [0, 1],\n",
       "       [0, 0],\n",
       "       [0, 0]])"
      ]
     },
     "execution_count": 85,
     "metadata": {},
     "output_type": "execute_result"
    }
   ],
   "source": [
    "i = 7\n",
    "x_train[i:i + 7]"
   ]
  },
  {
   "cell_type": "code",
   "execution_count": 100,
   "metadata": {},
   "outputs": [
    {
     "data": {
      "text/plain": [
       "array([[0.29053269],\n",
       "       [0.61651514]])"
      ]
     },
     "execution_count": 100,
     "metadata": {},
     "output_type": "execute_result"
    }
   ],
   "source": [
    "B1"
   ]
  },
  {
   "cell_type": "code",
   "execution_count": null,
   "metadata": {},
   "outputs": [],
   "source": [
    "def simple_looped_nn_calc(n_layers, x, w, b):\n",
    "  for l in range(n_layers - 1): #Формируется входной массив - перемножения весов в каждом слое# Если первый слой, то входной массив равен вектору х# Если слой не первый, вход для текущего слоя равен# выходу предыдущего\n",
    "    if l == 0:\n",
    "      node_in = x\n",
    "    else :\n",
    "      node_in = h #формирует выходной массив для узлов в слое l + 1\n",
    "    h = np.zeros((w[l].shape[0], ))#проходит по строкам массива весов\n",
    "    for i in range(w[l].shape[0]): #считает сумму внутри активационной функции\n",
    "        f_sum = 0 #проходит по столбцам массива весов\n",
    "        for j in range(w[l].shape[1]):\n",
    "          f_sum += w[l][i][j] * node_in[j] #добавляет смещение\n",
    "        f_sum += b[l][i]\n",
    "\n",
    "    #использует активационную функцию для расчета\n",
    "    #i - того выхода, в данном случае h1, h2, h3\n",
    "    h[i] = f(f_sum)\n",
    "return h\n"
   ]
  }
 ],
 "metadata": {
  "kernelspec": {
   "display_name": "Python 3",
   "language": "python",
   "name": "python3"
  },
  "language_info": {
   "codemirror_mode": {
    "name": "ipython",
    "version": 3
   },
   "file_extension": ".py",
   "mimetype": "text/x-python",
   "name": "python",
   "nbconvert_exporter": "python",
   "pygments_lexer": "ipython3",
   "version": "3.8.5"
  }
 },
 "nbformat": 4,
 "nbformat_minor": 4
}
