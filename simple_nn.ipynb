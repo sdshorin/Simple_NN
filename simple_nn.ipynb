{
 "cells": [
  {
   "cell_type": "markdown",
   "metadata": {},
   "source": [
    "#### Нейройсеть\n",
    "<img src=\"./xor_problem.png\" />\n",
    "1 скрытый слой с 2 нейронами\n",
    "\n",
    "$w_{12}$ - вес 1 нейрона у 2 нейрона следующего слоя\n",
    "\n",
    "$x_{1}$ - значение нейрона\n",
    "\n",
    "$n_{1}$ - вход 1 нейрона в слое ($\\sum_{i} w_{ji}x_{i} $)\n",
    "\n",
    "Матрица весов первого слоя `weight_1`: $\\begin{pmatrix} w_{11} & w_{12}\\\\ w_{21} & w_{22} \\end{pmatrix}$\n",
    "\n",
    "Базис второго слоя `bias_1`: $ \\begin{pmatrix} b_{1} & b_{2}\\end{pmatrix} $\n",
    "\n",
    "Вычисление входа второго слоя: $ \\begin{pmatrix} x_{1} & x_{2} \\end{pmatrix} \\begin{pmatrix} w_{11} & w_{12}\\\\ w_{21} & w_{22} \\end{pmatrix} + \\begin{pmatrix} b_{1} & b_{2}\\end{pmatrix} = \\begin{pmatrix} n_{1} & n_{2} \\end{pmatrix} $\n",
    "\n",
    "Значения второго слоя: $ \\begin{pmatrix} f(n_{1}) & f(n_{2}) \\end{pmatrix} = \\begin{pmatrix} x_{12} & x_{22} \\end{pmatrix} $\n",
    "\n",
    "Матрица весов второго слоя `weight_2`: $\\begin{pmatrix} w_{11} \\\\ w_{21} \\end{pmatrix}$\n",
    "\n",
    "Базис третьего слоя `bias_2`: $ \\begin{pmatrix} b_{3}\\end{pmatrix} $\n",
    "\n",
    "Вычисление входа третьего слоя: $ \\begin{pmatrix} x_{12} & x_{22} \\end{pmatrix} \\begin{pmatrix} w_{11} \\\\ w_{21} \\end{pmatrix} + \\begin{pmatrix} b_{3}\\end{pmatrix} = \\begin{pmatrix} n_{13}\\end{pmatrix} $\n",
    "\n",
    "Значение 3 слоя: $f(n_{13}) = x_{13}$\n",
    "\n",
    "Ошибка сети: $ (y_{target} - x_{13}) * f'(n_{13}) = \\delta_{13}$\n",
    "\n",
    "ошибки 2 слоя: $ \\delta_1^3 \\circ \\begin{pmatrix} w_{11} \\\\ w_{21} \\end{pmatrix}^T \\circ \\begin{pmatrix} f'(n_{1}) &  f'(n_{2}) \\end{pmatrix}) = \\begin{pmatrix} \\delta_1^2 & \\delta_2^2 \\end{pmatrix} $\n",
    "\n",
    "Общая формула обратного распространения ошибки: $ \\begin{pmatrix} \\delta_1 & ... & \\delta_n \\end{pmatrix} W^T \\circ \\begin{pmatrix} f'(n_{1}) & ... & f'(n_{n}) \\end{pmatrix} $\n",
    "\n",
    "Изменение весов 2 слоя:  $ \\ \\begin{pmatrix} x_{12} & x_{22} \\end{pmatrix}^T \\begin{pmatrix} \\delta_1^3 \\end{pmatrix} = \\begin{pmatrix} \\Delta_{11} \\\\ \\Delta_{12} \\end{pmatrix} $\n",
    "\n",
    "Извенения базиса 2 слоя: $ \\delta_1^3  = \\Delta_b $\n",
    "\n",
    "Изменение весов 1 слоя:  $ \\begin{pmatrix} x_{11} & x_{12} \\end{pmatrix}^T \\begin{pmatrix} \\delta_1^2 & \\delta_2^2 \\end{pmatrix} =\n",
    "\\begin{pmatrix} x_{11} \\\\ x_{12} \\end{pmatrix} \\begin{pmatrix} \\delta_1^2 & \\delta_2^2 \\end{pmatrix} = \\begin{pmatrix} \\Delta_{11} & \\Delta_{12} \\\\ \\Delta_{12} & \\Delta_{22} \\end{pmatrix}$\n",
    "\n",
    "Извенения базисов 1 слоя: $ \\begin{pmatrix} \\delta_1^2 & \\delta_2^2 \\end{pmatrix}  = \\begin{pmatrix} \\Delta_{b1} & \\Delta_{b2} \\end{pmatrix} $\n",
    "\n",
    "Итоговое значение весов первого слоя: $\\begin{pmatrix} w_{11} & w_{12}\\\\ w_{21} & w_{22} \\end{pmatrix} + \\alpha * \\begin{pmatrix} \\Delta_{11} & \\Delta_{12} \\\\ \\Delta_{12} & \\Delta_{22} \\end{pmatrix} $, где $\\alpha$ - скорость градиентного спуска\n",
    "\n",
    "Легко заметить, что если повысить размерность входных данных до $\\begin{pmatrix} x_{1} & x_{2} \\\\ x_{1} & x_{2} \\\\ .. \\\\ x_{1} & x_{2} \\\\ x_{1} & x_{2} \\end{pmatrix}$, все формулы продолжат работать (кроме умножения $\\circ $ - его просто придется примернить к каждой строчке).\n",
    "\n",
    "Тогда при перемножении ошибки n-ного слоя со значениями нейронов слоя n-1 будут перемножены матрицы размера $ n\\times l$ на $l\\times m$, где l - это размерность входных данных. Получится матрица размера $n \\times m$, которая и требовалась.\n",
    "\n",
    "Проблемы будут только в градиенте базиса: он будет размера $l\\times m$, и надо будет просуммировать строки (чтобы получить $1\\times m$). Это можно сделать с помощью умножения на еденичный вектор длины l."
   ]
  },
  {
   "cell_type": "markdown",
   "metadata": {},
   "source": [
    "XOR PROBLEM"
   ]
  },
  {
   "cell_type": "code",
   "execution_count": 1,
   "metadata": {},
   "outputs": [],
   "source": [
    "import os\n",
    "import numpy as np\n",
    "from random import randint\n",
    "import matplotlib.pyplot as plt"
   ]
  },
  {
   "cell_type": "code",
   "execution_count": 2,
   "metadata": {},
   "outputs": [],
   "source": [
    "# Функция, которую будем предсказывать:\n",
    "def xor(x, y):\n",
    "    return 0 if x+y != 1 else 1\n",
    "\n",
    "# массив данных, на которых будем обучать нейросеть\n",
    "inputs = []\n",
    "expected_output = []\n",
    "for _ in range(1000):\n",
    "    x = randint(0, 1)\n",
    "    y = randint(0, 1)\n",
    "    inputs.append([x , y])\n",
    "    expected_output.append([xor(x, y)])\n",
    "\n",
    "inputs = np.array(inputs)\n",
    "expected_output = np.array(expected_output)\n",
    "inputs = np.array([[0,0],[0,1],[1,0],[1,1]])\n",
    "expected_output = np.array([[0],[1],[1],[0]])\n",
    "\n",
    "# функция активации\n",
    "def sigmoid(x):\n",
    "    return 1.0/ (1 + np.exp(-x))\n",
    "\n",
    "# производная от функции активации\n",
    "def derivative_sigmoid(x):\n",
    "    a = sigmoid(x)\n",
    "    return a * (1 - a)"
   ]
  },
  {
   "cell_type": "code",
   "execution_count": 3,
   "metadata": {},
   "outputs": [],
   "source": [
    "# Зададим размеры нейросети\n",
    "inputLayerNeurons, hiddenLayerNeurons, outputLayerNeurons = 2,2,1\n",
    "\n",
    "# Инициализируем веса\n",
    "Weight_1 = np.random.uniform(size=(inputLayerNeurons, hiddenLayerNeurons))\n",
    "Bias_1 = np.random.uniform(size=(1, hiddenLayerNeurons))\n",
    "Weight_2 = np.random.uniform(size=(hiddenLayerNeurons, outputLayerNeurons))\n",
    "Bias_2 = np.random.uniform(size=(1, outputLayerNeurons))"
   ]
  },
  {
   "cell_type": "code",
   "execution_count": 4,
   "metadata": {},
   "outputs": [],
   "source": [
    "# код нейросети\n",
    "\n",
    "def forward(layer_in):\n",
    "    # Слой 1\n",
    "    layer_hidden = layer_in.dot(Weight_1) + Bias_1\n",
    "    layer_hidden_result = sigmoid(layer_hidden)\n",
    "\n",
    "    # Слой 2\n",
    "    layer_out = layer_hidden_result.dot(Weight_2) + Bias_2\n",
    "    layer_out_result = sigmoid(layer_out)\n",
    "    return layer_out_result"
   ]
  },
  {
   "cell_type": "code",
   "execution_count": 5,
   "metadata": {},
   "outputs": [
    {
     "name": "stdout",
     "output_type": "stream",
     "text": [
      "[0 0] ~~> 0.80 [0]\n",
      "[0 1] ~~> 0.82 [1]\n",
      "[1 0] ~~> 0.82 [1]\n",
      "[1 1] ~~> 0.83 [0]\n"
     ]
    }
   ],
   "source": [
    "# Проверим, что отвечает нейросеть со сулчайными весами на первые 10 пар чисел в данных\n",
    "\n",
    "for x_i, y_i in zip(inputs[:15], expected_output[:15]):\n",
    "    print(x_i, '~~>', '%.2f' % forward(x_i), '[%d]' % y_i)"
   ]
  },
  {
   "cell_type": "code",
   "execution_count": 6,
   "metadata": {},
   "outputs": [
    {
     "name": "stdout",
     "output_type": "stream",
     "text": [
      "(array([[-0.01115772, -0.00986865],\n",
      "       [-0.01044829, -0.01102831]]), array([[-0.02835633, -0.02764532]]), array([[-0.12507066],\n",
      "       [-0.12731569]]), array([[-0.18935907]]))\n"
     ]
    }
   ],
   "source": [
    "# Эта функция вычисляет градиент, по которому надо сдвигать веса сети\n",
    "def backward(layer_in, target):\n",
    "    #layer 1\n",
    "    layer_hidden = layer_in.dot(Weight_1) + Bias_1\n",
    "    layer_hidden_result = sigmoid(layer_hidden)\n",
    "\n",
    "    # Слой 2\n",
    "    layer_out = layer_hidden_result.dot(Weight_2) + Bias_2\n",
    "    layer_out_result = sigmoid(layer_out)\n",
    "    # Вычисляем ошики у каждого слоя\n",
    "    loss = target - layer_out_result\n",
    "\n",
    "    layer_out_error = loss * derivative_sigmoid(layer_out)\n",
    "    hidden_layer_error = layer_out_error.dot(Weight_2.T) * derivative_sigmoid(layer_hidden)\n",
    "    \n",
    "    # Вычисляем изменения весов и базисов\n",
    "    \n",
    "    d_weight_1 = layer_in.T.dot(hidden_layer_error)\n",
    "    # так как за раз на вход могут подать сразу массив данных, просуммируем их по оси 0,\n",
    "    # чтобы получить нужный вектор изменения базисов\n",
    "    d_bias_1 = np.sum(hidden_layer_error, axis=0, keepdims=True)\n",
    "    d_weight_2 = layer_hidden_result.T.dot(layer_out_error)\n",
    "    d_bias_2 = np.sum(layer_out_error, axis=0, keepdims=True)\n",
    "    return d_weight_1, d_bias_1, d_weight_2, d_bias_2\n",
    "\n",
    "# Проверка\n",
    "res = backward(inputs, expected_output)\n",
    "print(res)"
   ]
  },
  {
   "cell_type": "code",
   "execution_count": 7,
   "metadata": {},
   "outputs": [],
   "source": [
    "loss_history = [] # запомним занчения ошибок, чтобы потом сделать красивый график\n",
    "epochs = 10000 # 500 проходов по всем данным\n",
    "lr = 0.1 # скорость обучения\n",
    "\n",
    "for _ in range(epochs):\n",
    "    batch_loss = []\n",
    "    # За раз вычисляем градиент сразу на всех данных\n",
    "    d1w, d1b, d2w, d2b = backward(inputs, expected_output)\n",
    "\n",
    "    # Изменяем веса про градиенту\n",
    "    Weight_1 += lr * d1w\n",
    "    Bias_1 += lr * d1b\n",
    "    Weight_2 += lr * d2w\n",
    "    Bias_2 += lr * d2b\n",
    "\n",
    "    # запоминаем ошибку\n",
    "    a2 = forward(inputs)\n",
    "    loss = np.linalg.norm(a2 - expected_output)\n",
    "    batch_loss.append(np.linalg.norm(a2 - expected_output))\n",
    "    loss_history.append(np.mean(batch_loss))\n",
    "   \n"
   ]
  },
  {
   "cell_type": "code",
   "execution_count": 8,
   "metadata": {},
   "outputs": [
    {
     "data": {
      "image/png": "[encoded data removed]",
      "text/plain": [
       "<Figure size 432x288 with 1 Axes>"
      ]
     },
     "metadata": {
      "needs_background": "light"
     },
     "output_type": "display_data"
    }
   ],
   "source": [
    "plt.plot(loss_history)\n",
    "plt.ylabel('Loss history')\n",
    "plt.xlabel('Iteration')\n",
    "plt.show()"
   ]
  },
  {
   "cell_type": "code",
   "execution_count": 9,
   "metadata": {},
   "outputs": [
    {
     "name": "stdout",
     "output_type": "stream",
     "text": [
      "[0 0] ~~> 0.07 [0]\n",
      "[0 1] ~~> 0.93 [1]\n",
      "[1 0] ~~> 0.93 [1]\n",
      "[1 1] ~~> 0.08 [0]\n"
     ]
    }
   ],
   "source": [
    "# Проверим, что отвечает нейросеть на первых 10 пар чисел в данных\n",
    "\n",
    "for x_i, y_i in zip(inputs[:10], expected_output[:10]):\n",
    "    print(x_i, '~~>', '%.2f' % forward(x_i), '[%d]' % y_i)"
   ]
  },
  {
   "cell_type": "code",
   "execution_count": null,
   "metadata": {},
   "outputs": [],
   "source": []
  }
 ],
 "metadata": {
  "kernelspec": {
   "display_name": "Python 3",
   "language": "python",
   "name": "python3"
  },
  "language_info": {
   "codemirror_mode": {
    "name": "ipython",
    "version": 3
   },
   "file_extension": ".py",
   "mimetype": "text/x-python",
   "name": "python",
   "nbconvert_exporter": "python",
   "pygments_lexer": "ipython3",
   "version": "3.8.5"
  }
 },
 "nbformat": 4,
 "nbformat_minor": 4
}
