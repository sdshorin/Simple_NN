{
 "cells": [
  {
   "cell_type": "code",
   "execution_count": 13,
   "metadata": {},
   "outputs": [],
   "source": [
    "import os\n",
    "import numpy as np\n",
    "from random import randint\n",
    "import matplotlib.pyplot as plt"
   ]
  },
  {
   "cell_type": "markdown",
   "metadata": {},
   "source": [
    "#### Нейройсеть\n",
    "<img src=\"./xor_problem.png\" />\n",
    "1 скрытый слой с 2 нейронами\n",
    "\n",
    "$w_{12}$ - вес 1 нейрона у 2 нейрона следующего слоя\n",
    "\n",
    "$x_{1}$ - значение нейрона\n",
    "\n",
    "$n_{1}$ - вход 1 нейрона в слое ($\\sum_{i} w_{ji}x_{i} $)\n",
    "\n",
    "Матрица весов первого слоя `weight_1`: $\\begin{pmatrix} w_{11} & w_{12}\\\\ w_{21} & w_{22} \\end{pmatrix}$\n",
    "\n",
    "Базис второго слоя `bias_1`: $ \\begin{pmatrix} b_{1} & b_{2}\\end{pmatrix} $\n",
    "\n",
    "Вычисление входа второго слоя: $ \\begin{pmatrix} x_{1} & x_{2} \\end{pmatrix} \\begin{pmatrix} w_{11} & w_{12}\\\\ w_{21} & w_{22} \\end{pmatrix} + \\begin{pmatrix} b_{1} & b_{2}\\end{pmatrix} = \\begin{pmatrix} n_{1} & n_{2} \\end{pmatrix} $\n",
    "\n",
    "Значения второго слоя: $ \\begin{pmatrix} f(n_{1}) & f(n_{2}) \\end{pmatrix} = \\begin{pmatrix} x_{12} & x_{22} \\end{pmatrix} $\n",
    "\n",
    "Матрица весов второго слоя `weight_2`: $\\begin{pmatrix} w_{11} \\\\ w_{21} \\end{pmatrix}$\n",
    "\n",
    "Базис третьего слоя `bias_2`: $ \\begin{pmatrix} b_{3}\\end{pmatrix} $\n",
    "\n",
    "Вычисление входа третьего слоя: $ \\begin{pmatrix} x_{12} & x_{22} \\end{pmatrix} \\begin{pmatrix} w_{11} \\\\ w_{21} \\end{pmatrix} + \\begin{pmatrix} b_{3}\\end{pmatrix} = \\begin{pmatrix} n_{13}\\end{pmatrix} $\n",
    "\n",
    "Значение 3 слоя: $f(n_{13}) = x_{13}$\n",
    "\n",
    "Ошибка сети: $ (y_{target} - x_{13}) * f'(n_{13}) = \\delta_{13}$\n",
    "\n",
    "ошибки 2 слоя: $ \\delta_1^3 \\circ \\begin{pmatrix} w_{11} \\\\ w_{21} \\end{pmatrix}^T \\circ \\begin{pmatrix} f'(n_{1}) &  f'(n_{2}) \\end{pmatrix}) = \\begin{pmatrix} \\delta_1^2 & \\delta_2^2 \\end{pmatrix} $\n",
    "\n",
    "Общая формула обратного распространения ошибки: $ \\begin{pmatrix} \\delta_1 & ... & \\delta_n \\end{pmatrix} W^T \\circ \\begin{pmatrix} f'(n_{1}) & ... & f'(n_{n}) \\end{pmatrix} $\n",
    "\n",
    "Изменение весов 2 слоя:  $ \\ \\begin{pmatrix} x_{12} & x_{22} \\end{pmatrix}^T \\begin{pmatrix} \\delta_1^3 \\end{pmatrix} = \\begin{pmatrix} \\Delta_{11} \\\\ \\Delta_{12} \\end{pmatrix} $\n",
    "\n",
    "Извенения базиса 2 слоя: $ \\delta_1^3  = \\Delta_b $\n",
    "\n",
    "Изменение весов 1 слоя:  $ \\begin{pmatrix} x_{11} & x_{12} \\end{pmatrix}^T \\begin{pmatrix} \\delta_1^2 & \\delta_2^2 \\end{pmatrix} =\n",
    "\\begin{pmatrix} x_{11} \\\\ x_{12} \\end{pmatrix} \\begin{pmatrix} \\delta_1^2 & \\delta_2^2 \\end{pmatrix} = \\begin{pmatrix} \\Delta_{11} & \\Delta_{12} \\\\ \\Delta_{12} & \\Delta_{22} \\end{pmatrix}$\n",
    "\n",
    "Извенения базисов 1 слоя: $ \\begin{pmatrix} \\delta_1^2 & \\delta_2^2 \\end{pmatrix}  = \\begin{pmatrix} \\Delta_{b1} & \\Delta_{b2} \\end{pmatrix} $\n",
    "\n",
    "Итоговое значение весов первого слоя: $\\begin{pmatrix} w_{11} & w_{12}\\\\ w_{21} & w_{22} \\end{pmatrix} + \\alpha * \\begin{pmatrix} \\Delta_{11} & \\Delta_{12} \\\\ \\Delta_{12} & \\Delta_{22} \\end{pmatrix} $, где $\\alpha$ - скорость градиентного спуска"
   ]
  },
  {
   "cell_type": "markdown",
   "metadata": {},
   "source": [
    "class Layer:\n",
    "    def __init__(self, layer_size, prew_layer_size):\n",
    "        self.layer_size = layer_size\n",
    "        self.next_layer_size = next_layer_size\n",
    "        weight = []\n",
    "        for i in layer_size:\n",
    "            line = []\n",
    "            for j in next_layer_size:\n",
    "                line.append(random.rand_range(-1, 1))\n",
    "            weight.append(line)\n",
    "        self.weight = weight\n",
    "        \n",
    "    def forward(prev_layer):\n",
    "        neuron"
   ]
  },
  {
   "cell_type": "code",
   "execution_count": 68,
   "metadata": {},
   "outputs": [],
   "source": [
    "# Функция, которую будем предсказывать:\n",
    "def xor(x, y):\n",
    "    return 1 if x+y != 1 else 0\n",
    "\n",
    "# массив из данных, на которых будем обучать нейросеть\n",
    "inputs = []\n",
    "expected_output = []\n",
    "for _ in range(256):\n",
    "    x = randint(0, 1)\n",
    "    y = randint(0, 1)\n",
    "    inputs.append([x , y])\n",
    "    expected_output.append(xor(x, y))\n",
    "#     print ([x , y], '~>', xor(x, y))\n",
    "\n",
    "inputs = np.array(inputs)\n",
    "expected_output = np.array(expected_output)\n",
    "\n",
    "# функция активации\n",
    "def sigmoid(x):\n",
    "    return 1.0/ (1 + np.exp(-x))\n",
    "\n",
    "# производная от функции активации\n",
    "def derivative_sigmoid(x):\n",
    "    a = sigmoid(x)\n",
    "    return a * (1 - a)"
   ]
  },
  {
   "cell_type": "code",
   "execution_count": 72,
   "metadata": {},
   "outputs": [],
   "source": [
    "# Зададим размеры нейросети\n",
    "inputLayerNeurons, hiddenLayerNeurons, outputLayerNeurons = 2,2,1\n",
    "\n",
    "# Инициализируем веса\n",
    "Weight_1 = np.random.uniform(size=(inputLayerNeurons, hiddenLayerNeurons))\n",
    "Bias_1 = np.random.uniform(size=(1, hiddenLayerNeurons))\n",
    "Weight_2 = np.random.uniform(size=(hiddenLayerNeurons, outputLayerNeurons))\n",
    "Bias_2 = np.random.uniform(size=(1, outputLayerNeurons))"
   ]
  },
  {
   "cell_type": "code",
   "execution_count": 62,
   "metadata": {},
   "outputs": [],
   "source": [
    "# код нейросети\n",
    "\n",
    "def forward(layer_in):\n",
    "    # Слой 1\n",
    "    layer_hidden = layer_in.dot(Weight_1) + Bias_1\n",
    "    layer_hidden_result = sigmoid(layer_hidden)\n",
    "\n",
    "    # Слой 2\n",
    "    layer_out = layer_hidden_result.dot(Weight_2) + Bias_2\n",
    "    layer_out_result = sigmoid(layer_out)\n",
    "    return layer_out_result"
   ]
  },
  {
   "cell_type": "code",
   "execution_count": 71,
   "metadata": {},
   "outputs": [
    {
     "name": "stdout",
     "output_type": "stream",
     "text": [
      "[0 1] ~~> 0.80 [0]\n",
      "[1 1] ~~> 0.81 [1]\n",
      "[0 1] ~~> 0.80 [0]\n",
      "[1 1] ~~> 0.81 [1]\n",
      "[1 1] ~~> 0.81 [1]\n",
      "[0 0] ~~> 0.76 [1]\n",
      "[0 1] ~~> 0.80 [0]\n",
      "[1 0] ~~> 0.78 [0]\n",
      "[0 1] ~~> 0.80 [0]\n",
      "[0 1] ~~> 0.80 [0]\n"
     ]
    }
   ],
   "source": [
    "# Проверим, что отвечает нейросеть на первые 10 пар чисел в данных\n",
    "\n",
    "for x_i, y_i in zip(inputs[:10], expected_output[:10]):\n",
    "    print(x_i, '~~>', '%.2f' % forward(x_i), '[%d]' % y_i)"
   ]
  },
  {
   "cell_type": "code",
   "execution_count": 20,
   "metadata": {},
   "outputs": [],
   "source": [
    "def backward(layer_in, target):\n",
    "    #layer 1\n",
    "    layer_hidden = layer_in.dot(Weight_1) + Bias_1\n",
    "    layer_hidden_result = sigmoid(layer_hidden)\n",
    "\n",
    "    # Слой 2\n",
    "    layer_out = layer_hidden_result.dot(Weight_2) + Bias_2\n",
    "    layer_out_result = sigmoid(layer_out)\n",
    "    \n",
    "    loss = target - layer_out_result\n",
    "    errors_2 = loss * derivative_sigmoid(layer_2)\n",
    "    errors_1 = np.transpose(W2).dot(errors_2) * derivative_sigmoid(layer_1)\n",
    "    d1w_in = errors_1.dot(x0.T)\n",
    "    d1b_in = np.ones((2,1)) * np.sum(errors_1,axis=0,keepdims=True)\n",
    "    d2w_in = errors_2 * layer_1_result.T\n",
    "    d2b_in = np.ones((1,1)) * np.sum(errors_2,axis=0,keepdims=True)\n",
    "    return d1w_in, d1b_in, d2w_in, d2b_in\n",
    "\n",
    "res = backward(np.reshape(x_train[0], (2,1)), y_train[0])\n",
    "    "
   ]
  },
  {
   "cell_type": "code",
   "execution_count": 21,
   "metadata": {},
   "outputs": [],
   "source": [
    "loss_history = []\n",
    "hist_W1 = []\n",
    "hist_B1 = []\n",
    "hist_W2 = []\n",
    "hist_B2 = []"
   ]
  },
  {
   "cell_type": "code",
   "execution_count": 22,
   "metadata": {},
   "outputs": [
    {
     "name": "stdout",
     "output_type": "stream",
     "text": [
      "[[0.57684054 0.80290286]\n",
      " [0.68989602 0.63066055]]\n",
      "[[0.07782376]\n",
      " [0.49501388]]\n",
      "[[0.32524563 0.83273591]]\n",
      "[[0.81657779]]\n"
     ]
    }
   ],
   "source": [
    "W1 = np.random.uniform(low=0, high=1, size=(2,2))\n",
    "B1 = np.random.uniform(low=0, high=1, size=(2,1))\n",
    "W2 = np.random.uniform(low=0, high=1, size=(1,2))\n",
    "B2 = np.random.uniform(low=0, high=1, size=(1,1))\n",
    "print(W1)\n",
    "print(B1)\n",
    "print(W2)\n",
    "print(B2)"
   ]
  },
  {
   "cell_type": "code",
   "execution_count": 29,
   "metadata": {},
   "outputs": [],
   "source": [
    "epochs = 10000\n",
    "lr = 0.1\n",
    "inputs = np.array([[[0],[0]],[[0],[1]],[[1],[0]],[[1],[1]]])\n",
    "expected_output = np.array([[0],[1],[1],[0]])\n",
    "\n",
    "\n",
    "\n",
    "for e in range(epochs):\n",
    "    hist_W1.append(W1.flatten())\n",
    "    hist_B1.append(B1.flatten())\n",
    "    hist_W2.append(W2.flatten())\n",
    "    hist_B2.append(B2.flatten())\n",
    "    i=0\n",
    "    batch_loss = []\n",
    "    while(i<inputs.shape[0]):\n",
    "        x_batch = np.reshape(inputs[i], (2,1))\n",
    "        y_batch = expected_output[i]\n",
    "        i += 1\n",
    "        d1w, d1b, d2w, d2b = backward(x_batch, y_batch)\n",
    "        W1 += lr * d1w\n",
    "        B1 += lr * d1b\n",
    "        W2 += lr * d2w\n",
    "        B2 += lr * d2b\n",
    "        a2 = forward(x_batch)\n",
    "        loss = np.linalg.norm(a2 - y_batch)\n",
    "        batch_loss.append(np.linalg.norm(a2 - y_batch))\n",
    "        hist_W1.append(W1.flatten())\n",
    "    loss_history.append(np.mean(batch_loss))\n",
    "   \n",
    "    hist_B1.append(B1.flatten())\n",
    "    hist_W2.append(W2.flatten())\n",
    "    hist_B2.append(B2.flatten())\n"
   ]
  },
  {
   "cell_type": "code",
   "execution_count": 30,
   "metadata": {},
   "outputs": [
    {
     "data": {
      "image/png": "[encoded data removed]",
      "text/plain": [
       "<Figure size 432x288 with 1 Axes>"
      ]
     },
     "metadata": {
      "needs_background": "light"
     },
     "output_type": "display_data"
    }
   ],
   "source": [
    "# plt.plot(hist_W1)\n",
    "plt.plot(loss_history)\n",
    "plt.ylabel('Loss history')\n",
    "plt.xlabel('Количество итераций')\n",
    "plt.show()"
   ]
  },
  {
   "cell_type": "code",
   "execution_count": 130,
   "metadata": {},
   "outputs": [
    {
     "data": {
      "image/png": "[encoded data removed]",
      "text/plain": [
       "<Figure size 432x288 with 1 Axes>"
      ]
     },
     "metadata": {
      "needs_background": "light"
     },
     "output_type": "display_data"
    }
   ],
   "source": [
    "plt.plot(hist_B1)\n",
    "\n",
    "\n",
    "plt.show()"
   ]
  },
  {
   "cell_type": "code",
   "execution_count": 8,
   "metadata": {},
   "outputs": [
    {
     "data": {
      "text/plain": [
       "array([[[0],\n",
       "        [0]],\n",
       "\n",
       "       [[0],\n",
       "        [1]],\n",
       "\n",
       "       [[1],\n",
       "        [0]],\n",
       "\n",
       "       [[1],\n",
       "        [1]]])"
      ]
     },
     "execution_count": 8,
     "metadata": {},
     "output_type": "execute_result"
    }
   ],
   "source": [
    "inputs"
   ]
  },
  {
   "cell_type": "code",
   "execution_count": 9,
   "metadata": {},
   "outputs": [
    {
     "data": {
      "text/plain": [
       "array([[[0],\n",
       "        [0]],\n",
       "\n",
       "       [[0],\n",
       "        [1]],\n",
       "\n",
       "       [[1],\n",
       "        [0]],\n",
       "\n",
       "       [[1],\n",
       "        [1]]])"
      ]
     },
     "execution_count": 9,
     "metadata": {},
     "output_type": "execute_result"
    }
   ],
   "source": [
    "inputs\n"
   ]
  },
  {
   "cell_type": "code",
   "execution_count": 52,
   "metadata": {},
   "outputs": [
    {
     "data": {
      "text/plain": [
       "array([[0.71251669, 0.17986224],\n",
       "       [0.976786  , 0.70148031]])"
      ]
     },
     "execution_count": 52,
     "metadata": {},
     "output_type": "execute_result"
    }
   ],
   "source": [
    "W1"
   ]
  },
  {
   "cell_type": "code",
   "execution_count": 65,
   "metadata": {},
   "outputs": [
    {
     "ename": "SyntaxError",
     "evalue": "'return' outside function (<ipython-input-65-8273894b40e4>, line 17)",
     "output_type": "error",
     "traceback": [
      "\u001b[0;36m  File \u001b[0;32m\"<ipython-input-65-8273894b40e4>\"\u001b[0;36m, line \u001b[0;32m17\u001b[0m\n\u001b[0;31m    return h\u001b[0m\n\u001b[0m    ^\u001b[0m\n\u001b[0;31mSyntaxError\u001b[0m\u001b[0;31m:\u001b[0m 'return' outside function\n"
     ]
    }
   ],
   "source": [
    "def simple_looped_nn_calc(n_layers, x, w, b):\n",
    "  for l in range(n_layers - 1): #Формируется входной массив - перемножения весов в каждом слое# Если первый слой, то входной массив равен вектору х# Если слой не первый, вход для текущего слоя равен# выходу предыдущего\n",
    "    if l == 0:\n",
    "      node_in = x\n",
    "    else :\n",
    "      node_in = h #формирует выходной массив для узлов в слое l + 1\n",
    "    h = np.zeros((w[l].shape[0], ))#проходит по строкам массива весов\n",
    "    for i in range(w[l].shape[0]): #считает сумму внутри активационной функции\n",
    "        f_sum = 0 #проходит по столбцам массива весов\n",
    "        for j in range(w[l].shape[1]):\n",
    "          f_sum += w[l][i][j] * node_in[j] #добавляет смещение\n",
    "        f_sum += b[l][i]\n",
    "\n",
    "    #использует активационную функцию для расчета\n",
    "    #i - того выхода, в данном случае h1, h2, h3\n",
    "    h[i] = f(f_sum)\n",
    "return h\n"
   ]
  },
  {
   "cell_type": "code",
   "execution_count": 75,
   "metadata": {},
   "outputs": [],
   "source": [
    "a = np.array([[0.03732454], [0.02102299]])"
   ]
  },
  {
   "cell_type": "code",
   "execution_count": 81,
   "metadata": {},
   "outputs": [
    {
     "name": "stdout",
     "output_type": "stream",
     "text": [
      "[[0.03732454]\n",
      " [0.02102299]]\n",
      "[[1. 1.]]\n"
     ]
    },
    {
     "ename": "ValueError",
     "evalue": "shapes (2,1) and (2,1) not aligned: 1 (dim 1) != 2 (dim 0)",
     "output_type": "error",
     "traceback": [
      "\u001b[0;31m---------------------------------------------------------------------------\u001b[0m",
      "\u001b[0;31mValueError\u001b[0m                                Traceback (most recent call last)",
      "\u001b[0;32m<ipython-input-81-11726083e64c>\u001b[0m in \u001b[0;36m<module>\u001b[0;34m\u001b[0m\n\u001b[1;32m      1\u001b[0m \u001b[0mprint\u001b[0m\u001b[0;34m(\u001b[0m\u001b[0ma\u001b[0m\u001b[0;34m)\u001b[0m\u001b[0;31m#.dot(np.ones(1,2)))\u001b[0m\u001b[0;34m\u001b[0m\u001b[0;34m\u001b[0m\u001b[0m\n\u001b[1;32m      2\u001b[0m \u001b[0mprint\u001b[0m\u001b[0;34m(\u001b[0m\u001b[0mnp\u001b[0m\u001b[0;34m.\u001b[0m\u001b[0mones\u001b[0m\u001b[0;34m(\u001b[0m\u001b[0;34m(\u001b[0m\u001b[0;36m1\u001b[0m\u001b[0;34m,\u001b[0m\u001b[0;36m2\u001b[0m\u001b[0;34m)\u001b[0m\u001b[0;34m)\u001b[0m\u001b[0;34m)\u001b[0m\u001b[0;34m\u001b[0m\u001b[0;34m\u001b[0m\u001b[0m\n\u001b[0;32m----> 3\u001b[0;31m \u001b[0mprint\u001b[0m\u001b[0;34m(\u001b[0m\u001b[0ma\u001b[0m\u001b[0;34m.\u001b[0m\u001b[0mdot\u001b[0m\u001b[0;34m(\u001b[0m\u001b[0mnp\u001b[0m\u001b[0;34m.\u001b[0m\u001b[0mones\u001b[0m\u001b[0;34m(\u001b[0m\u001b[0;34m(\u001b[0m\u001b[0;36m2\u001b[0m\u001b[0;34m,\u001b[0m\u001b[0;36m1\u001b[0m\u001b[0;34m)\u001b[0m\u001b[0;34m)\u001b[0m\u001b[0;34m)\u001b[0m\u001b[0;34m)\u001b[0m\u001b[0;34m\u001b[0m\u001b[0;34m\u001b[0m\u001b[0m\n\u001b[0m",
      "\u001b[0;31mValueError\u001b[0m: shapes (2,1) and (2,1) not aligned: 1 (dim 1) != 2 (dim 0)"
     ]
    }
   ],
   "source": [
    "print(a)#.dot(np.ones(1,2)))\n",
    "print(np.ones((1,2)))\n",
    "print(a.dot(np.ones((2,1))))"
   ]
  },
  {
   "cell_type": "code",
   "execution_count": 78,
   "metadata": {},
   "outputs": [
    {
     "name": "stdout",
     "output_type": "stream",
     "text": [
      "Initial hidden weights: [0.04861323 0.79488986] [0.82501916 0.83560787]\n",
      "Initial hidden biases: [0.81745818 0.75581678]\n",
      "Initial output weights: [0.07459985] [0.0595384]\n",
      "Initial output biases: [0.50998396]\n"
     ]
    },
    {
     "ename": "ValueError",
     "evalue": "non-broadcastable output operand with shape (1,1) doesn't match the broadcast shape (4,1)",
     "output_type": "error",
     "traceback": [
      "\u001b[0;31m---------------------------------------------------------------------------\u001b[0m",
      "\u001b[0;31mValueError\u001b[0m                                Traceback (most recent call last)",
      "\u001b[0;32m<ipython-input-78-dbc6739319ba>\u001b[0m in \u001b[0;36m<module>\u001b[0;34m\u001b[0m\n\u001b[1;32m     57\u001b[0m     \u001b[0moutput_weights\u001b[0m \u001b[0;34m+=\u001b[0m \u001b[0mhidden_layer_output\u001b[0m\u001b[0;34m.\u001b[0m\u001b[0mT\u001b[0m\u001b[0;34m.\u001b[0m\u001b[0mdot\u001b[0m\u001b[0;34m(\u001b[0m\u001b[0md_predicted_output\u001b[0m\u001b[0;34m)\u001b[0m \u001b[0;34m*\u001b[0m \u001b[0mlr\u001b[0m\u001b[0;34m\u001b[0m\u001b[0;34m\u001b[0m\u001b[0m\n\u001b[1;32m     58\u001b[0m \u001b[0;31m#     output_bias += np.sum(d_predicted_output,axis=0,keepdims=True) * lr\u001b[0m\u001b[0;34m\u001b[0m\u001b[0;34m\u001b[0m\u001b[0;34m\u001b[0m\u001b[0m\n\u001b[0;32m---> 59\u001b[0;31m     \u001b[0moutput_bias\u001b[0m \u001b[0;34m+=\u001b[0m \u001b[0md_predicted_output\u001b[0m\u001b[0;34m\u001b[0m\u001b[0;34m\u001b[0m\u001b[0m\n\u001b[0m\u001b[1;32m     60\u001b[0m     \u001b[0mhidden_weights\u001b[0m \u001b[0;34m+=\u001b[0m \u001b[0minputs\u001b[0m\u001b[0;34m.\u001b[0m\u001b[0mT\u001b[0m\u001b[0;34m.\u001b[0m\u001b[0mdot\u001b[0m\u001b[0;34m(\u001b[0m\u001b[0md_hidden_layer\u001b[0m\u001b[0;34m)\u001b[0m \u001b[0;34m*\u001b[0m \u001b[0mlr\u001b[0m\u001b[0;34m\u001b[0m\u001b[0;34m\u001b[0m\u001b[0m\n\u001b[1;32m     61\u001b[0m \u001b[0;31m#     hidden_bias += np.sum(d_hidden_layer,axis=0,keepdims=True) * lr\u001b[0m\u001b[0;34m\u001b[0m\u001b[0;34m\u001b[0m\u001b[0;34m\u001b[0m\u001b[0m\n",
      "\u001b[0;31mValueError\u001b[0m: non-broadcastable output operand with shape (1,1) doesn't match the broadcast shape (4,1)"
     ]
    }
   ],
   "source": [
    "import numpy as np \n",
    "#np.random.seed(0)\n",
    "\n",
    "def sigmoid (x):\n",
    "    return 1/(1 + np.exp(-x))\n",
    "\n",
    "def sigmoid_derivative(x):\n",
    "    return x * (1 - x)\n",
    "\n",
    "#Input datasets\n",
    "inputs = np.array([[0,0],[0,1],[1,0],[1,1]])\n",
    "expected_output = np.array([[0],[1],[1],[0]])\n",
    "\n",
    "epochs = 10000\n",
    "lr = 0.1\n",
    "inputLayerNeurons, hiddenLayerNeurons, outputLayerNeurons = 2,2,1\n",
    "\n",
    "#Random weights and bias initialization\n",
    "hidden_weights = np.random.uniform(size=(inputLayerNeurons,hiddenLayerNeurons))\n",
    "hidden_bias =np.random.uniform(size=(1,hiddenLayerNeurons))\n",
    "output_weights = np.random.uniform(size=(hiddenLayerNeurons,outputLayerNeurons))\n",
    "output_bias = np.random.uniform(size=(1,outputLayerNeurons))\n",
    "W1 = hidden_weights.T\n",
    "B1 = hidden_bias.T\n",
    "W2 = output_weights.T\n",
    "B2 = output_bias.T\n",
    "x0 = inputs.T\n",
    "print(\"Initial hidden weights: \",end='')\n",
    "print(*hidden_weights)\n",
    "print(\"Initial hidden biases: \",end='')\n",
    "print(*hidden_bias)\n",
    "print(\"Initial output weights: \",end='')\n",
    "print(*output_weights)\n",
    "print(\"Initial output biases: \",end='')\n",
    "print(*output_bias)\n",
    "\n",
    "\n",
    "#Training algorithm\n",
    "for _ in range(epochs):\n",
    "    #Forward Propagation\n",
    "    hidden_layer_activation = np.dot(inputs,hidden_weights)\n",
    "    hidden_layer_activation += hidden_bias\n",
    "    hidden_layer_output = sigmoid(hidden_layer_activation)\n",
    "\n",
    "    output_layer_activation = np.dot(hidden_layer_output,output_weights)\n",
    "    output_layer_activation += output_bias\n",
    "    predicted_output = sigmoid(output_layer_activation)\n",
    "    \n",
    "\n",
    "#Backpropagation\n",
    "    error = expected_output - predicted_output\n",
    "    d_predicted_output = error * sigmoid_derivative(predicted_output)\n",
    "    error_hidden_layer = d_predicted_output.dot(output_weights.T)\n",
    "    d_hidden_layer = error_hidden_layer * sigmoid_derivative(hidden_layer_output)\n",
    "    \n",
    "    #Updating Weights and Biases\n",
    "    output_weights += hidden_layer_output.T.dot(d_predicted_output) * lr\n",
    "#     output_bias += np.sum(d_predicted_output,axis=0,keepdims=True) * lr\n",
    "    output_bias += d_predicted_output\n",
    "#     hidden_weights += inputs.T.dot(d_hidden_layer) * lr\n",
    "    hidden_bias += np.sum(d_hidden_layer,axis=0,keepdims=True) * lr\n",
    "    hidden_bias += d_hidden_layer\n",
    "    \n",
    "\n",
    "print(\"Final hidden weights: \",end='')\n",
    "print(*hidden_weights)\n",
    "print(\"Final hidden bias: \",end='')\n",
    "print(*hidden_bias)\n",
    "print(\"Final output weights: \",end='')\n",
    "print(*output_weights)\n",
    "print(\"Final output bias: \",end='')\n",
    "print(*output_bias)\n",
    "\n",
    "print(\"\\nOutput from neural network after 10,000 epochs: \",end='')\n",
    "print(*predicted_output)"
   ]
  },
  {
   "cell_type": "code",
   "execution_count": 73,
   "metadata": {},
   "outputs": [
    {
     "data": {
      "text/plain": [
       "array([[-0.01020912],\n",
       "       [-0.01020912]])"
      ]
     },
     "execution_count": 73,
     "metadata": {},
     "output_type": "execute_result"
    }
   ],
   "source": [
    "np.ones((2,1)) * np.sum(errors_1,axis=0,keepdims=True)"
   ]
  },
  {
   "cell_type": "code",
   "execution_count": 76,
   "metadata": {},
   "outputs": [],
   "source": [
    "hidden_layer_activation = np.dot(inputs,hidden_weights)\n",
    "hidden_layer_activation += hidden_bias\n",
    "hidden_layer_output = sigmoid(hidden_layer_activation)\n",
    "\n",
    "output_layer_activation = np.dot(hidden_layer_output,output_weights)\n",
    "output_layer_activation += output_bias\n",
    "predicted_output = sigmoid(output_layer_activation)"
   ]
  },
  {
   "cell_type": "code",
   "execution_count": 77,
   "metadata": {},
   "outputs": [
    {
     "name": "stdout",
     "output_type": "stream",
     "text": [
      "[[1 1]]\n"
     ]
    }
   ],
   "source": [
    "print(inputs)"
   ]
  },
  {
   "cell_type": "code",
   "execution_count": 79,
   "metadata": {},
   "outputs": [
    {
     "data": {
      "text/plain": [
       "array([[-0.1044184 ],\n",
       "       [-0.10387517]])"
      ]
     },
     "execution_count": 79,
     "metadata": {},
     "output_type": "execute_result"
    }
   ],
   "source": [
    "hidden_layer_output.T.dot(d_predicted_output)"
   ]
  },
  {
   "cell_type": "code",
   "execution_count": 80,
   "metadata": {},
   "outputs": [
    {
     "data": {
      "text/plain": [
       "array([[0.69369652, 0.68044482],\n",
       "       [0.83787175, 0.83081645],\n",
       "       [0.70392758, 0.82501577],\n",
       "       [0.84436753, 0.91577775]])"
      ]
     },
     "execution_count": 80,
     "metadata": {},
     "output_type": "execute_result"
    }
   ],
   "source": [
    "hidden_layer_output"
   ]
  },
  {
   "cell_type": "code",
   "execution_count": 81,
   "metadata": {},
   "outputs": [
    {
     "data": {
      "text/plain": [
       "array([[-0.14773665],\n",
       "       [ 0.07940455],\n",
       "       [ 0.08018692],\n",
       "       [-0.14793394]])"
      ]
     },
     "execution_count": 81,
     "metadata": {},
     "output_type": "execute_result"
    }
   ],
   "source": [
    "d_predicted_output"
   ]
  },
  {
   "cell_type": "code",
   "execution_count": null,
   "metadata": {},
   "outputs": [],
   "source": []
  }
 ],
 "metadata": {
  "kernelspec": {
   "display_name": "Python 3",
   "language": "python",
   "name": "python3"
  },
  "language_info": {
   "codemirror_mode": {
    "name": "ipython",
    "version": 3
   },
   "file_extension": ".py",
   "mimetype": "text/x-python",
   "name": "python",
   "nbconvert_exporter": "python",
   "pygments_lexer": "ipython3",
   "version": "3.8.5"
  }
 },
 "nbformat": 4,
 "nbformat_minor": 4
}
